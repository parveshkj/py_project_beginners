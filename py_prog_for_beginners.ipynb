{
 "cells": [
  {
   "cell_type": "markdown",
   "id": "5b8010b4-d530-4f41-b6ec-a6d5c30f0b37",
   "metadata": {},
   "source": [
    "PYTHON PROGRAMS FOR BEGINNERS\n"
   ]
  },
  {
   "cell_type": "code",
   "execution_count": 5,
   "id": "3035e416-5c5c-4c72-8c72-db708bab3e8b",
   "metadata": {},
   "outputs": [
    {
     "name": "stdin",
     "output_type": "stream",
     "text": [
      "enter your marks 74\n"
     ]
    },
    {
     "name": "stdout",
     "output_type": "stream",
     "text": [
      "C grade\n"
     ]
    }
   ],
   "source": [
    "#PROGRAM-1 STUDENT MARKSHEET\n",
    "b= int(input(\"enter your marks\"))\n",
    "if (b<100) and (b>=90):\n",
    "    print (\"A grade\")\n",
    "elif b<90 and b >= 80:\n",
    "    print(\"B grade\")\n",
    "elif b<80 and b>=70:\n",
    "    print (\"C grade\")\n",
    "else:\n",
    "\n",
    "    print(\"below avg\")\n"
   ]
  },
  {
   "cell_type": "code",
   "execution_count": 15,
   "id": "6053b451-cc58-4bb9-9102-8ade11b5dff6",
   "metadata": {},
   "outputs": [
    {
     "name": "stdin",
     "output_type": "stream",
     "text": [
      "Enter real number 12.9\n"
     ]
    },
    {
     "name": "stdout",
     "output_type": "stream",
     "text": [
      "12\n",
      "EVEN\n"
     ]
    }
   ],
   "source": [
    "#PROGRAM-2\n",
    "\"\"\"\n",
    "USER WILL ENTER A FLOATING POINT NUMBER LET SAY(238.911), \n",
    "YOUR TASK IS TO FIND OUT THE INTEGER PORTION BEFORE THE POINT (IN THIS CASE 238) \n",
    "AND THEN CHECK IF THE INTEGER PORTION IS EVEN NUMBER OR NOT.\n",
    "\"\"\"\n",
    "x= float(input(\"Enter real number\"))\n",
    "y= round(x)\n",
    "if y>x:\n",
    "    intportion = y-1\n",
    "else:\n",
    "    intportion = y\n",
    "print(intportion)\n",
    "if intportion%2 == 0:\n",
    "    print(\"EVEN\")\n",
    "else: \n",
    "    print(\"ODD\")\n"
   ]
  },
  {
   "cell_type": "code",
   "execution_count": 10,
   "id": "30f7c25e-09ab-4427-adbc-ebccbf16ba00",
   "metadata": {},
   "outputs": [
    {
     "name": "stdout",
     "output_type": "stream",
     "text": [
      "[-3, 1, 2, 4, 5, 6, 7, 9]\n",
      "[-3, 1, 2, 4, 5, 6, 7, 9]\n"
     ]
    }
   ],
   "source": [
    "#PROGRAM-3\n",
    "\"\"\"\n",
    "GIVEN A LIST OF NUMBERS I.E [1,4,2,6,-3,7,5,9] MAKE ANOTHER LIST THAT CONTAINS ALL THE ITEMS IN SORTED ORDER FROM MIN TO MAX I.E \n",
    "YOUR RESULT WILL BE ANOTHER LIST LIKE [-3,1,2,4,5,6,7,9]\n",
    "\"\"\"\n",
    "\"\"\"using function\"\"\"\n",
    "L = [1,4,2,6,-3,7,5,9]\n",
    "sorted_numbers = sorted(L)\n",
    "print(sorted_numbers)\n",
    "\n",
    "\"without using function\"\n",
    "# Given list of numbers\n",
    "numbers = [1, 4, 2, 6, -3, 7, 5, 9]\n",
    "\n",
    "# Implementing bubble sort algorithm\n",
    "for i in range(len(numbers)):\n",
    "    for j in range(0, len(numbers) - i - 1):\n",
    "        if numbers[j] > numbers[j + 1]:\n",
    "            # Swap the elements\n",
    "            numbers[j], numbers[j + 1] = numbers[j + 1], numbers[j]\n",
    "\n",
    "# Print the sorted list\n",
    "print(numbers)"
   ]
  },
  {
   "cell_type": "code",
   "execution_count": null,
   "id": "93e9dc2d-c6af-48f1-bca2-692caf3ee524",
   "metadata": {},
   "outputs": [],
   "source": []
  },
  {
   "cell_type": "markdown",
   "id": "1946c719-2b33-49d7-877d-7b341b78e288",
   "metadata": {},
   "source": [
    "GUESS THE NUMBER GAME"
   ]
  },
  {
   "cell_type": "code",
   "execution_count": 1,
   "id": "cd1a2190-97ef-44ea-94c5-20c69cc1f23a",
   "metadata": {},
   "outputs": [],
   "source": [
    "import random as rn"
   ]
  },
  {
   "cell_type": "code",
   "execution_count": 14,
   "id": "87107637-035c-461a-bcc6-082b458dcf09",
   "metadata": {},
   "outputs": [
    {
     "name": "stdin",
     "output_type": "stream",
     "text": [
      "guess the number between 1 and 100 5\n"
     ]
    },
    {
     "name": "stdout",
     "output_type": "stream",
     "text": [
      "too small! try bitte\n"
     ]
    },
    {
     "name": "stdin",
     "output_type": "stream",
     "text": [
      "guess the number between 1 and 100 18\n"
     ]
    },
    {
     "name": "stdout",
     "output_type": "stream",
     "text": [
      "too small! try bitte\n"
     ]
    },
    {
     "name": "stdin",
     "output_type": "stream",
     "text": [
      "guess the number between 1 and 100 70\n"
     ]
    },
    {
     "name": "stdout",
     "output_type": "stream",
     "text": [
      "too big! try bitte\n"
     ]
    },
    {
     "name": "stdin",
     "output_type": "stream",
     "text": [
      "guess the number between 1 and 100 50\n"
     ]
    },
    {
     "name": "stdout",
     "output_type": "stream",
     "text": [
      "too big! try bitte\n"
     ]
    },
    {
     "name": "stdin",
     "output_type": "stream",
     "text": [
      "guess the number between 1 and 100 40\n"
     ]
    },
    {
     "name": "stdout",
     "output_type": "stream",
     "text": [
      "too big! try bitte\n"
     ]
    },
    {
     "name": "stdin",
     "output_type": "stream",
     "text": [
      "guess the number between 1 and 100 30\n"
     ]
    },
    {
     "name": "stdout",
     "output_type": "stream",
     "text": [
      "too big! try bitte\n"
     ]
    },
    {
     "name": "stdin",
     "output_type": "stream",
     "text": [
      "guess the number between 1 and 100 20\n"
     ]
    },
    {
     "name": "stdout",
     "output_type": "stream",
     "text": [
      "too small! try bitte\n"
     ]
    },
    {
     "name": "stdin",
     "output_type": "stream",
     "text": [
      "guess the number between 1 and 100 25\n"
     ]
    },
    {
     "name": "stdout",
     "output_type": "stream",
     "text": [
      "too small! try bitte\n"
     ]
    },
    {
     "name": "stdin",
     "output_type": "stream",
     "text": [
      "guess the number between 1 and 100 29\n"
     ]
    },
    {
     "name": "stdout",
     "output_type": "stream",
     "text": [
      "too big! try bitte\n"
     ]
    },
    {
     "name": "stdin",
     "output_type": "stream",
     "text": [
      "guess the number between 1 and 100 28\n"
     ]
    },
    {
     "name": "stdout",
     "output_type": "stream",
     "text": [
      "too big! try bitte\n"
     ]
    },
    {
     "name": "stdin",
     "output_type": "stream",
     "text": [
      "guess the number between 1 and 100 27\n"
     ]
    },
    {
     "name": "stdout",
     "output_type": "stream",
     "text": [
      "congratulation, you guessed the number right {27} in {11}\n"
     ]
    }
   ],
   "source": [
    "random_number = rn.randint(1,100)\n",
    "guess = None\n",
    "attempts = 0\n",
    "while guess != random_number:\n",
    "    guess = int(input(\"guess the number between 1 and 100\"))\n",
    "    attempts += 1\n",
    "    if guess < random_number:\n",
    "        print(\"too small! try bitte\")\n",
    "    elif guess > random_number:\n",
    "        print(\"too big! try bitte\")\n",
    "    else :\n",
    "        print(\"congratulation, you guessed the number right\", {random_number}, \"in\", {attempts})"
   ]
  },
  {
   "cell_type": "code",
   "execution_count": null,
   "id": "c17315be-509d-45f0-bfe4-4e857663c268",
   "metadata": {},
   "outputs": [],
   "source": []
  }
 ],
 "metadata": {
  "kernelspec": {
   "display_name": "Python 3 (ipykernel)",
   "language": "python",
   "name": "python3"
  },
  "language_info": {
   "codemirror_mode": {
    "name": "ipython",
    "version": 3
   },
   "file_extension": ".py",
   "mimetype": "text/x-python",
   "name": "python",
   "nbconvert_exporter": "python",
   "pygments_lexer": "ipython3",
   "version": "3.11.7"
  }
 },
 "nbformat": 4,
 "nbformat_minor": 5
}
